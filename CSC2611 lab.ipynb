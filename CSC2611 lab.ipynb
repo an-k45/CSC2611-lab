{
 "cells": [
  {
   "cell_type": "markdown",
   "metadata": {},
   "source": [
    "## CSC2611 - Lab (including Exercise)\n",
    "#### Aniket Kali\n",
    "\n",
    "The portion of this notebook under \"Exercise\" can safely be ignored. It is included as certain portions of the \"Lab\" rely on results from it.\n",
    "\n",
    "You can find the GitHub repository associated to this notebook here: "
   ]
  },
  {
   "cell_type": "code",
   "execution_count": 1,
   "metadata": {},
   "outputs": [],
   "source": [
    "import pickle\n",
    "from collections import Counter\n",
    "\n",
    "import numpy as np\n",
    "import pandas as pd\n",
    "from tqdm import tqdm\n",
    "import nltk\n",
    "from nltk.util import ngrams\n",
    "from sklearn.decomposition import PCA\n",
    "from sklearn.metrics.pairwise import cosine_similarity\n",
    "from sklearn.neighbors import NearestNeighbors\n",
    "from sklearn.cluster import KMeans\n",
    "from scipy.spatial import distance\n",
    "from scipy import stats\n",
    "from gensim.models import KeyedVectors\n",
    "\n",
    "import seaborn as sns\n",
    "sns.set_style(\"darkgrid\")"
   ]
  },
  {
   "cell_type": "code",
   "execution_count": 2,
   "metadata": {},
   "outputs": [],
   "source": [
    "RG65 = [\n",
    "    ('cord', 'smile', 0.02),\n",
    "    ('rooster', 'voyage', 0.04),\n",
    "    ('noon', 'string', 0.04),\n",
    "    ('fruit', 'furnace', 0.05),\n",
    "    ('autograph', 'shore', 0.06),\n",
    "    ('automobile', 'wizard', 0.11),\n",
    "    ('mound', 'stove', 0.14),\n",
    "    ('grin', 'implement', 0.18),\n",
    "    ('asylum', 'fruit', 0.19),\n",
    "    ('asylum', 'monk', 0.39),\n",
    "    ('graveyard', 'madhouse', 0.42),\n",
    "    ('glass', 'magician', 0.44),\n",
    "    ('boy', 'rooster', 0.44),\n",
    "    ('cushion', 'jewel' , 0.45),\n",
    "    ('monk', 'slave', 0.57),\n",
    "    ('asylum', 'cemetery', 0.79),\n",
    "    ('coast', 'forest', 0.85),\n",
    "    ('grin', 'land', 0.88),\n",
    "    ('shore', 'woodland', 0.90),\n",
    "    ('monk', 'oracle', 0.91),\n",
    "    ('boy', 'sage', 0.96),\n",
    "    ('automobile', 'cushion', 0.97),\n",
    "    ('mound', 'shore', 0.97),\n",
    "    ('lad', 'wizard', 0.99),\n",
    "    ('forest', 'graveyard', 1.00),\n",
    "    ('food', 'rooster', 1.09),\n",
    "    ('cemetery', 'woodland', 1.18),\n",
    "    ('shore', 'voyage', 1.22),\n",
    "    ('bird', 'woodland', 1.24),\n",
    "    ('coast', 'hill', 1.26),\n",
    "    ('furnace', 'implement', 1.37),\n",
    "    ('crane', 'rooster', 1.41),\n",
    "    ('hill', 'woodland', 1.48),\n",
    "    ('car', 'journey', 1.55),\n",
    "    ('cemetery', 'mound', 1.69),\n",
    "    ('glass', 'jewel', 1.78),\n",
    "    ('magician', 'oracle', 1.82),\n",
    "    ('crane', 'implement', 2.37),\n",
    "    ('brother', 'lad', 2.41),\n",
    "    ('sage', 'wizard', 2.46),\n",
    "    ('oracle', 'sage', 2.61),\n",
    "    ('bird', 'crane', 2.63),\n",
    "    ('food', 'fruit', 2.69),\n",
    "    ('brother', 'monk', 2.74),\n",
    "    ('asylum', 'madhouse', 3.04),\n",
    "    ('furnace', 'stove', 3.11),\n",
    "    ('magician', 'wizard', 3.21),\n",
    "    ('hill', 'mound', 3.29),\n",
    "    ('cord', 'string', 3.41),\n",
    "    ('glass', 'tumbler', 3.45),\n",
    "    ('grin', 'smile', 3.46),\n",
    "    ('serf', 'slave', 3.46),\n",
    "    ('journey', 'voyage', 3.58),\n",
    "    ('autograph', 'signature', 3.59),\n",
    "    ('coast', 'shore', 3.60),\n",
    "    ('forest', 'woodland', 3.65),\n",
    "    ('implement', 'tool', 3.66),\n",
    "    ('cock', 'rooster', 3.68),\n",
    "    ('boy', 'lad', 3.82),\n",
    "    ('cushion', 'pillow', 3.84),\n",
    "    ('cemetery', 'graveyard', 3.88),\n",
    "    ('automobile', 'car', 3.92),\n",
    "    ('midday', 'noon', 3.94),\n",
    "    ('gem', 'jewel', 3.94)\n",
    "]"
   ]
  },
  {
   "cell_type": "markdown",
   "metadata": {},
   "source": [
    "## Exercise\n",
    "### Meaning construction from text"
   ]
  },
  {
   "cell_type": "markdown",
   "metadata": {},
   "source": [
    "#### Step 2"
   ]
  },
  {
   "cell_type": "code",
   "execution_count": 3,
   "metadata": {},
   "outputs": [
    {
     "name": "stderr",
     "output_type": "stream",
     "text": [
      "[nltk_data] Downloading package brown to /home/aniket/nltk_data...\n",
      "[nltk_data]   Package brown is already up-to-date!\n"
     ]
    }
   ],
   "source": [
    "nltk.download('brown')\n",
    "from nltk.corpus import brown"
   ]
  },
  {
   "cell_type": "code",
   "execution_count": 4,
   "metadata": {},
   "outputs": [],
   "source": [
    "words = [w.lower() for w in brown.words() if w.isalpha()]\n",
    "words_counter = Counter(words)\n",
    "W_5000 = [w_f[0] for w_f in words_counter.most_common(5000)]"
   ]
  },
  {
   "cell_type": "code",
   "execution_count": 5,
   "metadata": {},
   "outputs": [
    {
     "data": {
      "text/plain": [
       "981716"
      ]
     },
     "execution_count": 5,
     "metadata": {},
     "output_type": "execute_result"
    }
   ],
   "source": [
    "len(words)"
   ]
  },
  {
   "cell_type": "code",
   "execution_count": 6,
   "metadata": {},
   "outputs": [
    {
     "data": {
      "text/plain": [
       "5030"
      ]
     },
     "execution_count": 6,
     "metadata": {},
     "output_type": "execute_result"
    }
   ],
   "source": [
    "words_rg65 = list(set([item[0] for item in RG65] + [item[1] for item in RG65]))\n",
    "W = W_5000 + [w for w in words_rg65 if w not in W_5000]\n",
    "W_len = len(W)\n",
    "\n",
    "W_len"
   ]
  },
  {
   "cell_type": "code",
   "execution_count": 7,
   "metadata": {},
   "outputs": [
    {
     "name": "stdout",
     "output_type": "stream",
     "text": [
      "['the', 'of', 'and', 'to', 'a']\n",
      "['vertex', 'rourke', 'killpath', 'haney', 'letch']\n"
     ]
    }
   ],
   "source": [
    "# Top and bottom 5 words\n",
    "print(W_5000[:5])\n",
    "print(W_5000[-5:])"
   ]
  },
  {
   "cell_type": "markdown",
   "metadata": {},
   "source": [
    "#### Step 3"
   ]
  },
  {
   "cell_type": "code",
   "execution_count": 8,
   "metadata": {},
   "outputs": [],
   "source": [
    "bigrams = list(ngrams(words, 2))\n",
    "bigrams_counter = Counter(bigrams)"
   ]
  },
  {
   "cell_type": "code",
   "execution_count": 10,
   "metadata": {},
   "outputs": [
    {
     "name": "stderr",
     "output_type": "stream",
     "text": [
      "100%|██████████| 5030/5030 [00:19<00:00, 264.19it/s]\n"
     ]
    },
    {
     "data": {
      "text/plain": [
       "array([[3.600e+01, 6.500e+01, 6.800e+01, ..., 4.000e+00, 4.000e+00,\n",
       "        0.000e+00],\n",
       "       [9.774e+03, 1.000e+01, 8.000e+01, ..., 0.000e+00, 0.000e+00,\n",
       "        0.000e+00],\n",
       "       [2.307e+03, 1.340e+02, 3.800e+01, ..., 0.000e+00, 0.000e+00,\n",
       "        0.000e+00],\n",
       "       ...,\n",
       "       [1.000e+00, 2.000e+00, 0.000e+00, ..., 0.000e+00, 0.000e+00,\n",
       "        0.000e+00],\n",
       "       [1.000e+00, 0.000e+00, 0.000e+00, ..., 0.000e+00, 0.000e+00,\n",
       "        0.000e+00],\n",
       "       [0.000e+00, 2.000e+00, 0.000e+00, ..., 0.000e+00, 0.000e+00,\n",
       "        0.000e+00]])"
      ]
     },
     "execution_count": 10,
     "metadata": {},
     "output_type": "execute_result"
    }
   ],
   "source": [
    "M1 = np.zeros((W_len, W_len))\n",
    "for i in tqdm(range(W_len)):\n",
    "    for j in range(W_len):\n",
    "        word_i, word_j = W[i], W[j]\n",
    "        M1[i][j] = bigrams_counter[(word_i, word_j)]\n",
    "\n",
    "M1"
   ]
  },
  {
   "cell_type": "markdown",
   "metadata": {},
   "source": [
    "#### Step 4"
   ]
  },
  {
   "cell_type": "code",
   "execution_count": 11,
   "metadata": {},
   "outputs": [],
   "source": [
    "# https://en.wikipedia.org/wiki/Pointwise_mutual_information#Definition\n",
    "# pmi(x;y) = log2(P(x,y) / P(x)P(y)) = log2(P(x|y) / P(x)) "
   ]
  },
  {
   "cell_type": "code",
   "execution_count": 12,
   "metadata": {},
   "outputs": [],
   "source": [
    "X_total, Y_total, M1_total = M1.sum(axis=1), M1.sum(axis=0), M1.sum()"
   ]
  },
  {
   "cell_type": "code",
   "execution_count": 13,
   "metadata": {},
   "outputs": [],
   "source": [
    "P_x_y_joint = M1 / M1_total  # Joint distn of X, Y\n",
    "\n",
    "P_x = X_total / M1_total  # Marginal distn of X\n",
    "P_y = Y_total / M1_total  # Marginal distn of Y\n",
    "P_x_y_ind = np.array([P_x]).T @ np.array([P_y])\n",
    "\n",
    "# Take the per-element product of the matching indicies of the marginal distn vectors\n",
    "# Take the log2, then set null/negatives to 0\n",
    "\n",
    "MI_ratio = np.divide(P_x_y_joint, P_x_y_ind, where=(P_x_y_ind!=0))\n",
    "PMI = np.log2(MI_ratio, where=(MI_ratio!=0))\n",
    "M1_P = np.maximum(0, PMI)"
   ]
  },
  {
   "cell_type": "markdown",
   "metadata": {},
   "source": [
    "#### Step 5"
   ]
  },
  {
   "cell_type": "code",
   "execution_count": 15,
   "metadata": {},
   "outputs": [],
   "source": [
    "M2_10 = PCA(n_components=10).fit_transform(M1_P)\n",
    "M2_100 = PCA(n_components=100).fit_transform(M1_P)\n",
    "M2_300 = PCA(n_components=300).fit_transform(M1_P)"
   ]
  },
  {
   "cell_type": "markdown",
   "metadata": {},
   "source": [
    "#### Step 6"
   ]
  },
  {
   "cell_type": "code",
   "execution_count": 16,
   "metadata": {},
   "outputs": [],
   "source": [
    "P, S = [], []  # These are matched by their index, in the same order\n",
    "for rg1, rg2, sim_val in RG65:\n",
    "    if (rg1 in W) and (rg2 in W):\n",
    "        P.append((rg1, rg2))\n",
    "        S.append(sim_val)"
   ]
  },
  {
   "cell_type": "markdown",
   "metadata": {},
   "source": [
    "#### Step 7"
   ]
  },
  {
   "cell_type": "code",
   "execution_count": 17,
   "metadata": {},
   "outputs": [],
   "source": [
    "def get_cos_sims(mat, W, P):\n",
    "    sims = []\n",
    "    for w1, w2 in P:\n",
    "        i1, i2 = W.index(w1), W.index(w2)\n",
    "        v1, v2 = mat[i1], mat[i2]\n",
    "        cos_sim = cosine_similarity([v1], [v2])[0][0]\n",
    "        sims.append(cos_sim)\n",
    "    return sims"
   ]
  },
  {
   "cell_type": "code",
   "execution_count": 18,
   "metadata": {},
   "outputs": [],
   "source": [
    "S_from_mats = {\n",
    "    \"S_M1\": get_cos_sims(M1, W, P),\n",
    "    \"S_M1_P\": get_cos_sims(M1_P, W, P),\n",
    "    \"S_M2_10\": get_cos_sims(M2_10, W, P),\n",
    "    \"S_M2_100\": get_cos_sims(M2_100, W, P),\n",
    "    \"S_M2_300\": get_cos_sims(M2_300, W, P)\n",
    "}"
   ]
  },
  {
   "cell_type": "markdown",
   "metadata": {},
   "source": [
    "#### Step 8 "
   ]
  },
  {
   "cell_type": "code",
   "execution_count": 19,
   "metadata": {
    "scrolled": true
   },
   "outputs": [
    {
     "name": "stdout",
     "output_type": "stream",
     "text": [
      "S_M1: 0.19061706861411143\n",
      "S_M1_P: 0.16022361100264837\n",
      "S_M2_10: 0.16433419360266788\n",
      "S_M2_100: 0.3694616901678858\n",
      "S_M2_300: 0.3916307757051189\n"
     ]
    }
   ],
   "source": [
    "for S_name in S_from_mats:\n",
    "    cur_S = S_from_mats[S_name]\n",
    "    pearson = stats.pearsonr(S, cur_S)[0]\n",
    "    print(f'{S_name}: {pearson}')"
   ]
  },
  {
   "cell_type": "markdown",
   "metadata": {},
   "source": [
    "## Lab -- Part 1\n",
    "### Synchronic word embedding"
   ]
  },
  {
   "cell_type": "markdown",
   "metadata": {},
   "source": [
    "#### Step 2"
   ]
  },
  {
   "cell_type": "code",
   "execution_count": 20,
   "metadata": {},
   "outputs": [],
   "source": [
    "word2vec_model = KeyedVectors.load_word2vec_format(\n",
    "    'GoogleNews-vectors-negative300.bin.gz',\n",
    "    binary=True\n",
    ")"
   ]
  },
  {
   "cell_type": "code",
   "execution_count": 21,
   "metadata": {},
   "outputs": [],
   "source": [
    "word2vec_embed_pairs = []\n",
    "for w1, w2 in P:\n",
    "    w1_embed = word2vec_model[w1].reshape(1, -1)\n",
    "    w2_embed = word2vec_model[w2].reshape(1, -1)\n",
    "    word2vec_embed_pairs.append((w1_embed, w2_embed))"
   ]
  },
  {
   "cell_type": "markdown",
   "metadata": {},
   "source": [
    "#### Step 3"
   ]
  },
  {
   "cell_type": "code",
   "execution_count": 22,
   "metadata": {},
   "outputs": [],
   "source": [
    "cos_sims = []\n",
    "for w1_embed, w2_embed in word2vec_embed_pairs:\n",
    "    cos_sim = cosine_similarity(w1_embed, w2_embed)[0][0]\n",
    "    cos_sims.append(cos_sim)"
   ]
  },
  {
   "cell_type": "code",
   "execution_count": 23,
   "metadata": {},
   "outputs": [
    {
     "name": "stdout",
     "output_type": "stream",
     "text": [
      "word2vec: 0.7748062479625776\n"
     ]
    }
   ],
   "source": [
    "pearson_score = stats.pearsonr(S, cos_sims)[0]\n",
    "print(f'word2vec: {pearson_score}') "
   ]
  },
  {
   "cell_type": "markdown",
   "metadata": {},
   "source": [
    "The correlation between word2vec and the human similiarities is markedly higher than that of the PPMI matrix and its PCA-based derivatives, so much so that word2vec actually approaches human ratings whereas the other method isn't even close. \n",
    "\n",
    "Mikolov et al. (2013) outlines the methods for word2vec, and consequently we can infer several potential reasons for the better performance that may inform the general development of word embeddings. First, and most simple, is that word2vec relies on much more training data (6B tokens) compared to us (1M tokens), which permits more context in line with the distributional hypothesis. Data alone does not make a method better however. In our method, we utilized two techniques (PPMI and PCA) to tune for relevant information for word representations. Mikolov et al. (2013) introduces several methods to refine the input in key ways, including skip grams, negative sampling, and neural network training. These are costlier (as is computing on more data), but with thorough justification clearly can also result in more accurate word embeddings."
   ]
  },
  {
   "cell_type": "markdown",
   "metadata": {},
   "source": [
    "#### Step 4 - Setup"
   ]
  },
  {
   "cell_type": "code",
   "execution_count": 24,
   "metadata": {},
   "outputs": [],
   "source": [
    "SEM_ANALOGIES = 'semantic_analogies.txt'\n",
    "SYN_ANALOGIES = 'syntactic_analogies.txt'\n",
    "SEM_FILTERED = 'semantic_filtered.txt'\n",
    "SYN_FILTERED = 'syntactic_filtered.txt'"
   ]
  },
  {
   "cell_type": "code",
   "execution_count": 25,
   "metadata": {},
   "outputs": [],
   "source": [
    "def filter_analogies(f_name_in, f_name_out):\n",
    "    rows = []\n",
    "    \n",
    "    with open(f_name_in, 'r') as f_in:\n",
    "        for line in f_in:\n",
    "            if ':' in line:\n",
    "                rows.append(line)\n",
    "            analogy_words = line.split()\n",
    "            if all(w.lower() in W for w in analogy_words):\n",
    "                new_line = \" \".join(analogy_words)\n",
    "                rows.append(new_line)\n",
    "    \n",
    "    with open(f_name_out, 'w') as f_out:\n",
    "        for row in rows:\n",
    "            f_out.write(f'{row}\\n')"
   ]
  },
  {
   "cell_type": "code",
   "execution_count": 26,
   "metadata": {},
   "outputs": [],
   "source": [
    "filter_analogies(SEM_ANALOGIES, SEM_FILTERED)\n",
    "filter_analogies(SYN_ANALOGIES, SYN_FILTERED)"
   ]
  },
  {
   "cell_type": "code",
   "execution_count": 27,
   "metadata": {},
   "outputs": [],
   "source": [
    "lsa_model = KeyedVectors(300)\n",
    "lsa_model.add_vectors(W, M2_300)"
   ]
  },
  {
   "cell_type": "markdown",
   "metadata": {},
   "source": [
    "#### Step 4 - Analysis"
   ]
  },
  {
   "cell_type": "code",
   "execution_count": 28,
   "metadata": {},
   "outputs": [],
   "source": [
    "analogy_scores = {\n",
    "    \"sem_word2vec\": word2vec_model.evaluate_word_analogies(SEM_FILTERED),\n",
    "    \"syn_word2vec\": word2vec_model.evaluate_word_analogies(SYN_FILTERED),\n",
    "    \"sem_lsa\": lsa_model.evaluate_word_analogies(SEM_FILTERED),\n",
    "    \"syn_lsa\": lsa_model.evaluate_word_analogies(SYN_FILTERED)\n",
    "}"
   ]
  },
  {
   "cell_type": "code",
   "execution_count": 29,
   "metadata": {},
   "outputs": [
    {
     "name": "stdout",
     "output_type": "stream",
     "text": [
      "sem_word2vec: 0.88\n",
      "syn_word2vec: 0.6859308384651823\n",
      "sem_lsa: 0.13142857142857142\n",
      "syn_lsa: 0.07816200852676457\n"
     ]
    }
   ],
   "source": [
    "for analogy_type in analogy_scores:\n",
    "    score = analogy_scores[analogy_type][0]\n",
    "    print(f'{analogy_type}: {score}')"
   ]
  },
  {
   "cell_type": "markdown",
   "metadata": {},
   "source": [
    "The LSA model performs far worse and is generally unable to predict the analogy with much accuracy at all, whereas the word2vec model succeeds in predicting the accuracy much of the time -- even with us controlling for both models operating on the same subset of data. This is consistent with previous comments above, about the general correlation of our own methods versus word2vec to human similarities. Once again, we likely suffer from less data and less sophistication in our model"
   ]
  },
  {
   "cell_type": "markdown",
   "metadata": {},
   "source": [
    "#### Step 5"
   ]
  },
  {
   "cell_type": "markdown",
   "metadata": {},
   "source": [
    "One general shortcoming in both the LSA and word2vec model is their fixed nature and how this inhibits a more robust word representation. The most basic point in this regard is the inability to realize polysemy: the same word may have multiple meanings, sometimes rather distinct, which are collapsed into a single word embedding. This may be a particularly noticeable problem when a more distinct sense of a word is less common (but nonetheless present). Consider the example of \"mouse\": its \"rodent\" sense may be less common than its \"device\" sense, leading its word embedding to lean more to the \"device\" sense. Similarity evaluations would therefore fare more poorly when trying to compare to the \"rodent\" sense of \"mouse\". \n",
    "\n",
    "One method to improve this would be by constructing individual contextual usage embeddings using BERT (Devlin et al. 2018). Usage embeddings are fine-tuned to the individual context of words, and therefore more sensitive to the different possible meanings of a word. Given a set of usage embeddings, we can classify them by various means, including dictionary definitions (Hu et al. 2019) or classic clustering techniques (Giulianelli et al. 2020). This approach would provide us with multiple representations of a word, constructed from differences in the context that are manifested by whether they belong to this sense or that sense. These in turn allow us to make more precise similarity judgements between various word (really sense) vectors, and account for non-dominant senses. \n",
    "similarity judgements, particularly to less dominant senses. "
   ]
  },
  {
   "cell_type": "markdown",
   "metadata": {},
   "source": [
    "## Lab -- Part 2\n",
    "### Diachronic word embedding"
   ]
  },
  {
   "cell_type": "markdown",
   "metadata": {},
   "source": [
    "Part 1"
   ]
  },
  {
   "cell_type": "code",
   "execution_count": 30,
   "metadata": {},
   "outputs": [],
   "source": [
    "with open('embeddings/data.pkl', 'rb') as in_f:\n",
    "    data = pickle.load(in_f)\n",
    "\n",
    "words = data['w']\n",
    "    \n",
    "word_mat = np.asarray(data['E'])  # (2000, 10, 300)\n",
    "decade_mat = np.transpose(data['E'], axes=[1,0,2])  # (10, 2000, 300)\n",
    "\n",
    "# The file is a dictionary that contains the following entries:\n",
    "# 'w': a list of 2000 words, a subset of the English lexicon\n",
    "# 'd': a list of decades between 1900 and 2000\n",
    "# 'E': a 2000 by 10 by 300 list of list of vectors; the (i,j)-th entry is a 300-dimensional vector for the i-th word in the j-th decade"
   ]
  },
  {
   "cell_type": "markdown",
   "metadata": {},
   "source": [
    "#### Part 2 - Semantic change in individual words"
   ]
  },
  {
   "cell_type": "markdown",
   "metadata": {},
   "source": [
    "Method 1 - Maximum Cosine Distance\n",
    "\n",
    "Cosine distance is a well-known method of evaluating the difference between word embedding vectors, as it ignores the geometric length of vectors. \n",
    "\n",
    "We can run a simple evaluation of the cosine distance between the initial embedding, and the embedding at every other timestamp t, of a word, and report the maximum. Namely, for a word embedding vector, e_t, compute the cosine difference between e_0 and e_t (t=1...9), then report the maximum. "
   ]
  },
  {
   "cell_type": "code",
   "execution_count": 95,
   "metadata": {},
   "outputs": [
    {
     "name": "stderr",
     "output_type": "stream",
     "text": [
      "100%|██████████| 2000/2000 [00:00<00:00, 4410.34it/s]\n"
     ]
    }
   ],
   "source": [
    "max_cos_dists = {}\n",
    "\n",
    "for i in tqdm(range(2000)):\n",
    "    cur_word = words[i]\n",
    "    init_embed = word_mat[i][0]\n",
    "    \n",
    "    max_dist = 0\n",
    "    for d in range(1, 10):\n",
    "        cur_embed = word_mat[i][d]\n",
    "        cur_dist = distance.cosine(init_embed, cur_embed)\n",
    "        if cur_dist > max_dist:\n",
    "            max_dist = cur_dist\n",
    "    \n",
    "    max_cos_dists[cur_word] = round(max_dist, 4)"
   ]
  },
  {
   "cell_type": "code",
   "execution_count": 96,
   "metadata": {},
   "outputs": [],
   "source": [
    "max_cos_dists_records = list(max_cos_dists.items())\n",
    "max_cos_dists_records.sort(key=lambda x:x[1])"
   ]
  },
  {
   "cell_type": "code",
   "execution_count": 97,
   "metadata": {
    "scrolled": true
   },
   "outputs": [
    {
     "data": {
      "text/plain": [
       "[('techniques', 0),\n",
       " ('skills', 0),\n",
       " ('mcgraw', 0),\n",
       " ('ml', 0),\n",
       " ('april', 0.2392),\n",
       " ('november', 0.2826),\n",
       " ('february', 0.295),\n",
       " ('october', 0.2971),\n",
       " ('january', 0.3018),\n",
       " ('increase', 0.3037),\n",
       " ('months', 0.3097),\n",
       " ('june', 0.3118),\n",
       " ('december', 0.3137),\n",
       " ('september', 0.3179),\n",
       " ('century', 0.318),\n",
       " ('daughter', 0.3201),\n",
       " ('evening', 0.3219),\n",
       " ('payment', 0.3227),\n",
       " ('feet', 0.3233),\n",
       " ('miles', 0.3257)]"
      ]
     },
     "execution_count": 97,
     "metadata": {},
     "output_type": "execute_result"
    }
   ],
   "source": [
    "max_cos_dists_records[:20]  # Least changing words (lowest distance)"
   ]
  },
  {
   "cell_type": "code",
   "execution_count": 98,
   "metadata": {},
   "outputs": [
    {
     "data": {
      "text/plain": [
       "[('stanford', 0.7675),\n",
       " ('film', 0.7759),\n",
       " ('therapy', 0.776),\n",
       " ('shift', 0.7769),\n",
       " ('assessment', 0.7785),\n",
       " ('princeton', 0.7827),\n",
       " ('berkeley', 0.7866),\n",
       " ('patterns', 0.8111),\n",
       " ('media', 0.8125),\n",
       " ('shri', 0.8244),\n",
       " ('van', 0.8367),\n",
       " ('approach', 0.8399),\n",
       " ('impact', 0.848),\n",
       " ('perspective', 0.8557),\n",
       " ('goals', 0.8595),\n",
       " ('sector', 0.92),\n",
       " ('radio', 0.9339),\n",
       " ('programs', 0.9908),\n",
       " ('computer', 0.9963),\n",
       " ('objectives', 0.9985)]"
      ]
     },
     "execution_count": 98,
     "metadata": {},
     "output_type": "execute_result"
    }
   ],
   "source": [
    "max_cos_dists_records[-20:]  # Most changing words (highest distance)"
   ]
  },
  {
   "cell_type": "markdown",
   "metadata": {},
   "source": [
    "Method 2 - k-Means Cluster Shifts\n",
    "\n",
    "In a coarse way, words can be thought of as existing in broad semantic categories. These semantic categories can change over time, and the extent to which they change, and the words within them relatively rank their fellow categories members, is a possible measure of change.\n",
    "\n",
    "Specifically, for each time t=0...9, use k-Means to produce a set of k=50 clusters. Measure the average cosine distance of a word to its fellow category members at time 0. Then, for t=1...9, repeat the same measurement. Take the difference between the distance at t=0 and t=1...9, and report the maximum distance as the change for a word"
   ]
  },
  {
   "cell_type": "code",
   "execution_count": 36,
   "metadata": {
    "scrolled": true
   },
   "outputs": [
    {
     "name": "stderr",
     "output_type": "stream",
     "text": [
      "100%|██████████| 10/10 [02:16<00:00, 13.62s/it]\n"
     ]
    }
   ],
   "source": [
    "decade_kmeans = []\n",
    "for i in tqdm(range(10)):\n",
    "    decade_kmeans.append(KMeans(n_clusters=50).fit(decade_mat[i]))"
   ]
  },
  {
   "cell_type": "code",
   "execution_count": 37,
   "metadata": {},
   "outputs": [
    {
     "name": "stderr",
     "output_type": "stream",
     "text": [
      "100%|██████████| 10/10 [00:08<00:00,  1.22it/s]\n"
     ]
    }
   ],
   "source": [
    "cluster_idxs = {}  # word --> [[idxs of fellow cluster members], ...per decade]\n",
    "for d in tqdm(range(10)):\n",
    "    cur_clusters = decade_kmeans[d].labels_\n",
    "    for i in range(2000):\n",
    "        cur_word = words[i]\n",
    "        cur_cluster_idx = cur_clusters[i]\n",
    "        fellow_idxs = []\n",
    "        \n",
    "        for j in range(2000):\n",
    "            if i == j:\n",
    "                continue\n",
    "            if cur_clusters[j] == cur_cluster_idx:\n",
    "                fellow_idxs.append(j)\n",
    "        \n",
    "        if cur_word not in cluster_idxs:\n",
    "            cluster_idxs[cur_word] = []\n",
    "        cluster_idxs[cur_word].append(fellow_idxs)"
   ]
  },
  {
   "cell_type": "code",
   "execution_count": 40,
   "metadata": {
    "scrolled": true
   },
   "outputs": [
    {
     "name": "stderr",
     "output_type": "stream",
     "text": [
      "100%|██████████| 2000/2000 [00:22<00:00, 88.64it/s]\n"
     ]
    }
   ],
   "source": [
    "cluster_dists = {}  # word --> [avg cos dist to fellow cluster members, ...per decade]\n",
    "for i in tqdm(range(2000)):\n",
    "    cur_word = words[i]\n",
    "    cluster_dists[cur_word] = []\n",
    "    for d in range(10):\n",
    "        fellow_idxs = cluster_idxs[cur_word][d]\n",
    "        dists = []\n",
    "        \n",
    "        for idx in fellow_idxs:\n",
    "            word_embed = word_mat[i][d]\n",
    "            fellow_embed = word_mat[idx][d]\n",
    "            dist = distance.cosine(word_embed, fellow_embed)\n",
    "            \n",
    "            if np.isnan(dist):\n",
    "                continue\n",
    "            \n",
    "            dists.append(dist)\n",
    "        \n",
    "        cluster_dists[cur_word].append(np.mean(dists))"
   ]
  },
  {
   "cell_type": "code",
   "execution_count": 41,
   "metadata": {},
   "outputs": [
    {
     "name": "stderr",
     "output_type": "stream",
     "text": [
      "100%|██████████| 2000/2000 [00:00<00:00, 61750.41it/s]\n"
     ]
    }
   ],
   "source": [
    "max_kmeans_diff = {}  # word --> max kmeans diff\n",
    "for i in tqdm(range(2000)):\n",
    "    cur_word = words[i]\n",
    "    cur_word_dists = cluster_dists[cur_word]\n",
    "    init_word_dist = cur_word_dists[0]\n",
    "    \n",
    "    max_diff = 0\n",
    "    for j in range(1, 10):\n",
    "        cur_word_dist = cur_word_dists[j]\n",
    "        cur_diff = np.abs(cur_word_dist - init_word_dist)\n",
    "        if cur_diff > max_diff:\n",
    "            max_diff = cur_diff\n",
    "    \n",
    "    max_kmeans_diff[cur_word] = round(max_diff, 4)"
   ]
  },
  {
   "cell_type": "code",
   "execution_count": 42,
   "metadata": {},
   "outputs": [],
   "source": [
    "max_kmeans_diff_records = list(max_kmeans_diff.items())\n",
    "max_kmeans_diff_records.sort(key=lambda x:x[1])"
   ]
  },
  {
   "cell_type": "code",
   "execution_count": 43,
   "metadata": {},
   "outputs": [
    {
     "data": {
      "text/plain": [
       "[('techniques', 0),\n",
       " ('skills', 0),\n",
       " ('mcgraw', 0),\n",
       " ('ml', 0),\n",
       " ('favor', 0.0186),\n",
       " ('territory', 0.0194),\n",
       " ('assumption', 0.0198),\n",
       " ('product', 0.0199),\n",
       " ('publication', 0.0221),\n",
       " ('weakness', 0.0223),\n",
       " ('source', 0.0227),\n",
       " ('association', 0.0229),\n",
       " ('collection', 0.023),\n",
       " ('strike', 0.025),\n",
       " ('administration', 0.0257),\n",
       " ('heads', 0.0259),\n",
       " ('adjustment', 0.0261),\n",
       " ('order', 0.0262),\n",
       " ('location', 0.0262),\n",
       " ('clothes', 0.0264)]"
      ]
     },
     "execution_count": 43,
     "metadata": {},
     "output_type": "execute_result"
    }
   ],
   "source": [
    "max_kmeans_diff_records[:20]  # Least changing words (lowest distance)"
   ]
  },
  {
   "cell_type": "code",
   "execution_count": 44,
   "metadata": {},
   "outputs": [
    {
     "data": {
      "text/plain": [
       "[('september', 0.214),\n",
       " ('words', 0.2156),\n",
       " ('october', 0.217),\n",
       " ('formula', 0.2191),\n",
       " ('equation', 0.2207),\n",
       " ('alcohol', 0.2228),\n",
       " ('b', 0.2233),\n",
       " ('press', 0.2239),\n",
       " ('witness', 0.2259),\n",
       " ('e', 0.2276),\n",
       " ('winter', 0.236),\n",
       " ('f', 0.236),\n",
       " ('p', 0.2374),\n",
       " ('k', 0.2383),\n",
       " ('g', 0.2402),\n",
       " ('month', 0.2418),\n",
       " ('paris', 0.2434),\n",
       " ('moscow', 0.245),\n",
       " ('year', 0.2532),\n",
       " ('h', 0.256)]"
      ]
     },
     "execution_count": 44,
     "metadata": {},
     "output_type": "execute_result"
    }
   ],
   "source": [
    "max_kmeans_diff_records[-20:]  # Most changing words (highest distance)"
   ]
  },
  {
   "cell_type": "markdown",
   "metadata": {},
   "source": [
    "Method 3 - k-NN Relative Change\n",
    "\n",
    "Words change not only with respect to themselves, but can move around in semantic space. One method of evaluating this is by observing how much words change with respect to their original neighbourhood. \n",
    "\n",
    "Given a word embedding vector at time 0, e_0, obtain its k=10 nearest neighbours. Compute the average cosine similarity from e_0 to its 10NN. Then, for e_1 through e_9, compute the average cosine similarity from e_i to each of its original 10NN at time 0. Take the difference between the average cosine similarity at time 0 and each time i, and report the maximum as the amount of change for a word."
   ]
  },
  {
   "cell_type": "code",
   "execution_count": 67,
   "metadata": {
    "scrolled": true
   },
   "outputs": [
    {
     "name": "stdout",
     "output_type": "stream",
     "text": [
      "0 []\n",
      "1 [1251, 1312, 1668, 1687, 1777]\n",
      "2 [1251]\n",
      "3 [1251, 1687]\n",
      "4 [1687]\n",
      "5 []\n",
      "6 []\n",
      "7 []\n",
      "8 []\n",
      "9 []\n"
     ]
    }
   ],
   "source": [
    "for d in range(10):\n",
    "    zero_words = []\n",
    "    for w in range(2000):\n",
    "        if np.sum(decade_mat[d][w]) == 0:\n",
    "            zero_words.append(w)\n",
    "    print(d, zero_words)"
   ]
  },
  {
   "cell_type": "code",
   "execution_count": 68,
   "metadata": {},
   "outputs": [],
   "source": [
    "init_knn_dists = {}\n",
    "max_knn_diff = {}\n",
    "\n",
    "init_neighbours = np.zeros((2000, 11), dtype=int)  # 11 = 10 + given embedding\n",
    "\n",
    "empty_words = [1312, 1668, 1729, 1777]\n",
    "decade_mat[0, empty_words] = 10000  # These are holes in the data at the start"
   ]
  },
  {
   "cell_type": "code",
   "execution_count": 69,
   "metadata": {},
   "outputs": [
    {
     "name": "stderr",
     "output_type": "stream",
     "text": [
      "100%|██████████| 2000/2000 [00:02<00:00, 722.16it/s]\n"
     ]
    }
   ],
   "source": [
    "knn = NearestNeighbors(n_neighbors=10)\n",
    "knn.fit(decade_mat[0])\n",
    "for i in tqdm(range(2000)):\n",
    "    init_neighbours[i] = knn.kneighbors([decade_mat[0][i]], 11, return_distance = False)\n",
    "\n",
    "init_neighbours = init_neighbours[:,1:]  # initial column is just a self-reference"
   ]
  },
  {
   "cell_type": "code",
   "execution_count": 70,
   "metadata": {},
   "outputs": [],
   "source": [
    "def get_mean_nn_dist(d, i):\n",
    "    dists = []\n",
    "    cur_word = words[i]\n",
    "    cur_nns = init_neighbours[i]\n",
    "    for nn_idx in cur_nns:\n",
    "        dist = distance.cosine(decade_mat[d][i], decade_mat[d][nn_idx])\n",
    "        dists.append(dist)\n",
    "    return np.mean(dists)"
   ]
  },
  {
   "cell_type": "code",
   "execution_count": 71,
   "metadata": {
    "scrolled": true
   },
   "outputs": [
    {
     "name": "stderr",
     "output_type": "stream",
     "text": [
      "100%|██████████| 2000/2000 [00:00<00:00, 3985.59it/s]\n"
     ]
    }
   ],
   "source": [
    "for i in tqdm(range(2000)):\n",
    "    cur_word = words[i]\n",
    "    init_knn_dists[cur_word] = get_mean_nn_dist(0, i)"
   ]
  },
  {
   "cell_type": "code",
   "execution_count": 73,
   "metadata": {},
   "outputs": [
    {
     "name": "stderr",
     "output_type": "stream",
     "text": [
      "100%|██████████| 2000/2000 [00:04<00:00, 409.00it/s]\n"
     ]
    }
   ],
   "source": [
    "for i in tqdm(range(2000)):\n",
    "    cur_word = words[i]\n",
    "    \n",
    "    max_diff = 0\n",
    "    for d in range(1, 10):\n",
    "        cur_dist = get_mean_nn_dist(d, i)\n",
    "        cur_diff = round(np.abs(init_knn_dists[cur_word] - cur_dist), 4)\n",
    "        if cur_diff > max_diff:\n",
    "            max_diff = cur_diff\n",
    "    \n",
    "    max_knn_diff[cur_word] = max_diff"
   ]
  },
  {
   "cell_type": "code",
   "execution_count": 74,
   "metadata": {},
   "outputs": [],
   "source": [
    "max_knn_diff_records = list(max_knn_diff.items())\n",
    "max_knn_diff_records.sort(key=lambda x:x[1])"
   ]
  },
  {
   "cell_type": "code",
   "execution_count": 75,
   "metadata": {
    "scrolled": true
   },
   "outputs": [
    {
     "data": {
      "text/plain": [
       "[('violation', 0.008),\n",
       " ('birth', 0.0104),\n",
       " ('leaders', 0.011),\n",
       " ('crops', 0.0122),\n",
       " ('shares', 0.0124),\n",
       " ('lord', 0.0136),\n",
       " ('conclusion', 0.0136),\n",
       " ('cry', 0.0136),\n",
       " ('vice', 0.0143),\n",
       " ('secretary', 0.0149),\n",
       " ('decrease', 0.0151),\n",
       " ('sheep', 0.0151),\n",
       " ('months', 0.0154),\n",
       " ('foot', 0.0154),\n",
       " ('january', 0.0155),\n",
       " ('poem', 0.0156),\n",
       " ('adults', 0.0159),\n",
       " ('individuals', 0.0161),\n",
       " ('gods', 0.0163),\n",
       " ('conviction', 0.0165)]"
      ]
     },
     "execution_count": 75,
     "metadata": {},
     "output_type": "execute_result"
    }
   ],
   "source": [
    "max_knn_diff_records[:20]  # Least changing words (lowest distance)"
   ]
  },
  {
   "cell_type": "code",
   "execution_count": 76,
   "metadata": {
    "scrolled": false
   },
   "outputs": [
    {
     "data": {
      "text/plain": [
       "[('solutions', 0.2066),\n",
       " ('signal', 0.2082),\n",
       " ('framework', 0.2083),\n",
       " ('alcohol', 0.2096),\n",
       " ('ii', 0.2155),\n",
       " ('film', 0.2182),\n",
       " ('protein', 0.2228),\n",
       " ('center', 0.2323),\n",
       " ('sector', 0.2361),\n",
       " ('acid', 0.2371),\n",
       " ('objectives', 0.2426),\n",
       " ('approach', 0.2614),\n",
       " ('computer', 0.2735),\n",
       " ('mcgraw', 0.3017),\n",
       " ('radio', 0.3082),\n",
       " ('assessment', 0.3256),\n",
       " ('ml', 0.3354),\n",
       " ('impact', 0.339),\n",
       " ('techniques', 0.3449),\n",
       " ('skills', 0.3998)]"
      ]
     },
     "execution_count": 76,
     "metadata": {},
     "output_type": "execute_result"
    }
   ],
   "source": [
    "max_knn_diff_records[-20:]  # Most changing words (highest distance)"
   ]
  },
  {
   "cell_type": "markdown",
   "metadata": {},
   "source": [
    "Correlation"
   ]
  },
  {
   "cell_type": "code",
   "execution_count": 99,
   "metadata": {},
   "outputs": [],
   "source": [
    "cos_corr_records = list(max_cos_dists.items())\n",
    "cos_corr_records.sort(key=lambda x:x[0])\n",
    "cos_dists = [item[1] for item in cos_corr_records]\n",
    "\n",
    "kmeans_corr_records = list(max_kmeans_diff.items())\n",
    "kmeans_corr_records.sort(key=lambda x:x[0])\n",
    "kmeans_diffs = [item[1] for item in kmeans_corr_records]\n",
    "\n",
    "knn_corr_records = list(max_knn_diff.items())\n",
    "knn_corr_records.sort(key=lambda x:x[0])\n",
    "knn_diffs = [item[1] for item in knn_corr_records]"
   ]
  },
  {
   "cell_type": "code",
   "execution_count": 100,
   "metadata": {},
   "outputs": [],
   "source": [
    "mat33 = np.zeros((3,3))\n",
    "\n",
    "mat33[0,0] = stats.pearsonr(cos_dists, cos_dists)[0]\n",
    "mat33[0,1] = stats.pearsonr(cos_dists, kmeans_diffs)[0]\n",
    "mat33[0,2] = stats.pearsonr(cos_dists, knn_diffs)[0]\n",
    "\n",
    "mat33[1,0] = stats.pearsonr(kmeans_diffs, cos_dists)[0]\n",
    "mat33[1,1] = stats.pearsonr(kmeans_diffs, kmeans_diffs)[0]\n",
    "mat33[1,2] = stats.pearsonr(kmeans_diffs, knn_diffs)[0]\n",
    "\n",
    "mat33[2,0] = stats.pearsonr(knn_diffs, cos_dists)[0]\n",
    "mat33[2,1] = stats.pearsonr(knn_diffs, kmeans_diffs)[0]\n",
    "mat33[2,2] = stats.pearsonr(knn_diffs, knn_diffs)[0]"
   ]
  },
  {
   "cell_type": "code",
   "execution_count": 101,
   "metadata": {
    "scrolled": true
   },
   "outputs": [],
   "source": [
    "labels = ['net_cosine', 'k_means', 'knn']\n",
    "df = pd.DataFrame(mat33, labels, labels)"
   ]
  },
  {
   "cell_type": "code",
   "execution_count": 102,
   "metadata": {},
   "outputs": [
    {
     "data": {
      "text/html": [
       "<div>\n",
       "<style scoped>\n",
       "    .dataframe tbody tr th:only-of-type {\n",
       "        vertical-align: middle;\n",
       "    }\n",
       "\n",
       "    .dataframe tbody tr th {\n",
       "        vertical-align: top;\n",
       "    }\n",
       "\n",
       "    .dataframe thead th {\n",
       "        text-align: right;\n",
       "    }\n",
       "</style>\n",
       "<table border=\"1\" class=\"dataframe\">\n",
       "  <thead>\n",
       "    <tr style=\"text-align: right;\">\n",
       "      <th></th>\n",
       "      <th>net_cosine</th>\n",
       "      <th>k_means</th>\n",
       "      <th>knn</th>\n",
       "    </tr>\n",
       "  </thead>\n",
       "  <tbody>\n",
       "    <tr>\n",
       "      <th>net_cosine</th>\n",
       "      <td>1.000000</td>\n",
       "      <td>-0.024292</td>\n",
       "      <td>0.260953</td>\n",
       "    </tr>\n",
       "    <tr>\n",
       "      <th>k_means</th>\n",
       "      <td>-0.024292</td>\n",
       "      <td>1.000000</td>\n",
       "      <td>-0.010812</td>\n",
       "    </tr>\n",
       "    <tr>\n",
       "      <th>knn</th>\n",
       "      <td>0.260953</td>\n",
       "      <td>-0.010812</td>\n",
       "      <td>1.000000</td>\n",
       "    </tr>\n",
       "  </tbody>\n",
       "</table>\n",
       "</div>"
      ],
      "text/plain": [
       "            net_cosine   k_means       knn\n",
       "net_cosine    1.000000 -0.024292  0.260953\n",
       "k_means      -0.024292  1.000000 -0.010812\n",
       "knn           0.260953 -0.010812  1.000000"
      ]
     },
     "execution_count": 102,
     "metadata": {},
     "output_type": "execute_result"
    }
   ],
   "source": [
    "df"
   ]
  },
  {
   "cell_type": "markdown",
   "metadata": {},
   "source": [
    "#### Part 3 - Evaluating semantic change"
   ]
  },
  {
   "cell_type": "markdown",
   "metadata": {},
   "source": [
    "In order to evaluate accuracy, I make use a gold standard set of word change -- the GEMS dataset from Gulordava and Baroni (2011). This dataset contains 97 words, of which 38 exist in our set of words. The GEMS dataset provides human ratings (from 5 annotators) of these words over the 1960s to 1990s. It has been used as an evaluation metric in prior work on semantic change (Hu et al. 2019; Giulianelli et al. 2020). \n",
    "\n",
    "One thing to note is that we are examning word change in the span of a century, so this will not be a perfect correlation. Nonetheless, for the sake of this assignment, we can compute the correlation between the GEMS ratings and our own computed results. Given that change over a subset of the century is still expected to be observed in the century as a whole, we expect to see a strong positive correlation for the method which performs best, indicating that it broadly detects change successfully compared against a gold standard.\n",
    "\n",
    "Gulordava and Baroni (2011): https://aclanthology.org/W11-2508/\n",
    "\n",
    "GEMS data (from Kutuzov and Giulianelli (2020)): https://github.com/akutuzov/semeval2020/blob/master/gold_internal/english/task2/gems.tsv"
   ]
  },
  {
   "cell_type": "code",
   "execution_count": 118,
   "metadata": {},
   "outputs": [],
   "source": [
    "df_gems = pd.read_csv('./gems.tsv', sep='\\t')[['word', 'average']]\n",
    "gems_words = df_gems['word'].to_list()\n",
    "gems_words_to_rating = df_gems.set_index('word').to_dict()['average']"
   ]
  },
  {
   "cell_type": "code",
   "execution_count": 119,
   "metadata": {},
   "outputs": [
    {
     "name": "stdout",
     "output_type": "stream",
     "text": [
      "38\n"
     ]
    }
   ],
   "source": [
    "test_words = []\n",
    "for gems_word in gems_words:\n",
    "    if gems_word in words:\n",
    "        test_words.append(gems_word)\n",
    "\n",
    "print(len(test_words))"
   ]
  },
  {
   "cell_type": "code",
   "execution_count": 120,
   "metadata": {},
   "outputs": [],
   "source": [
    "test_ratings = []\n",
    "for test_word in test_words:\n",
    "    test_ratings.append(gems_words_to_rating[test_word])"
   ]
  },
  {
   "cell_type": "code",
   "execution_count": 121,
   "metadata": {},
   "outputs": [],
   "source": [
    "max_cos_ratings = []\n",
    "kmeans_ratings = [] \n",
    "knn_ratings = []\n",
    "\n",
    "for test_word in test_words:\n",
    "    max_cos_ratings.append(max_cos_dists[test_word])\n",
    "    kmeans_ratings.append(max_kmeans_diff[test_word])\n",
    "    knn_ratings.append(max_knn_diff[test_word])"
   ]
  },
  {
   "cell_type": "code",
   "execution_count": 122,
   "metadata": {
    "scrolled": true
   },
   "outputs": [
    {
     "name": "stdout",
     "output_type": "stream",
     "text": [
      "max_cos: 0.5403\n",
      "kmeans: -0.271\n",
      "knn: 0.5675\n"
     ]
    }
   ],
   "source": [
    "evaluation = {\n",
    "    \"max_cos\": stats.pearsonr(test_ratings, net_cos_ratings),\n",
    "    \"kmeans\": stats.pearsonr(test_ratings, kmeans_ratings),\n",
    "    \"knn\": stats.pearsonr(test_ratings, knn_ratings)\n",
    "}\n",
    "\n",
    "for method in evaluation:\n",
    "    score = round(evaluation[method][0], 4)\n",
    "    print(f'{method}: {score}')"
   ]
  },
  {
   "cell_type": "markdown",
   "metadata": {},
   "source": [
    "We can therefore conclude the kNN method, which evaluates change in a semantic neighbourhood, performs best on our gold standard. The max cosine method is close second, while the k-Means method actually performs opposite. "
   ]
  },
  {
   "cell_type": "markdown",
   "metadata": {},
   "source": [
    "#### Part 4 - Change Point Detection"
   ]
  },
  {
   "cell_type": "code",
   "execution_count": 123,
   "metadata": {
    "scrolled": true
   },
   "outputs": [
    {
     "data": {
      "text/plain": [
       "[('impact', 0.339), ('techniques', 0.3449), ('skills', 0.3998)]"
      ]
     },
     "execution_count": 123,
     "metadata": {},
     "output_type": "execute_result"
    }
   ],
   "source": [
    "max_knn_diff_records[-3:] "
   ]
  },
  {
   "cell_type": "markdown",
   "metadata": {},
   "source": [
    "Using the knn method, we find the three highest changing words are: 'impact', 'techniques', and 'skills'. "
   ]
  },
  {
   "cell_type": "markdown",
   "metadata": {},
   "source": [
    "One way of thinking about the 'change point' of a word's meaning is its relative position to its final destination, ie. its point in semantic space at the final timestep. We can think about this intuitively as a word 'accelerating' toward where it is going, then 'slowing down', with the 'maximum speed', ie. 'change point', somewhere in the middle. \n",
    "\n",
    "Specifically, we can compute the difference between time d and time d-1 of their cosine distances to the final time point. This is the amount of 'change' for time d. The time point with the greatest difference is reported as the change point. This necessarily omits d=0 (as d=-1 doesn't exist) and d=9 (as distance to oneself will skew the results). "
   ]
  },
  {
   "cell_type": "code",
   "execution_count": 130,
   "metadata": {},
   "outputs": [],
   "source": [
    "max_change_idxs = {\n",
    "    'impact': words.index('impact'),\n",
    "    'techniques': words.index('techniques'),\n",
    "    'skills': words.index('skills')\n",
    "}"
   ]
  },
  {
   "cell_type": "code",
   "execution_count": 132,
   "metadata": {},
   "outputs": [],
   "source": [
    "per_decade_change = {'impact': [], 'techniques': [], 'skills': []}\n",
    "\n",
    "for max_word in max_change_idxs:\n",
    "    cur_word_idx = max_change_idxs[max_word]\n",
    "    for d in range(1, 9):\n",
    "        dist0 = distance.cosine(word_mat[cur_word_idx][d - 1], word_mat[cur_word_idx][9])\n",
    "        dist1 = distance.cosine(word_mat[cur_word_idx][d], word_mat[cur_word_idx][9])\n",
    "        \n",
    "        diff = np.abs(dist1 - dist0)\n",
    "        if np.isnan(diff):\n",
    "            diff = 0\n",
    "        \n",
    "        per_decade_change[max_word].append((d, diff))\n",
    "    \n",
    "    per_decade_change[max_word] = pd.DataFrame(per_decade_change[max_word], columns=['decade', 'diff'])"
   ]
  },
  {
   "cell_type": "code",
   "execution_count": 133,
   "metadata": {},
   "outputs": [],
   "source": [
    "def plot_change_point(word):\n",
    "    sns_plot = sns.lineplot(data=per_decade_change[word], x=\"decade\", y='diff')\n",
    "    change_point = np.argmax(per_decade_change[word]['diff']) + 1\n",
    "    sns_plot.axvline(x = change_point) # Top of the plot\n",
    "    sns_plot.figure.suptitle('impact')\n",
    "    print(f'change point at decade {change_point}')\n",
    "    return sns_plot "
   ]
  },
  {
   "cell_type": "code",
   "execution_count": 134,
   "metadata": {},
   "outputs": [
    {
     "name": "stdout",
     "output_type": "stream",
     "text": [
      "change point at decade 4\n"
     ]
    },
    {
     "data": {
      "text/plain": [
       "<AxesSubplot:xlabel='decade', ylabel='diff'>"
      ]
     },
     "execution_count": 134,
     "metadata": {},
     "output_type": "execute_result"
    },
    {
     "data": {
      "image/png": "[encoded data removed]",
      "text/plain": [
       "<Figure size 432x288 with 1 Axes>"
      ]
     },
     "metadata": {},
     "output_type": "display_data"
    }
   ],
   "source": [
    "plot_change_point('impact')"
   ]
  },
  {
   "cell_type": "code",
   "execution_count": 135,
   "metadata": {
    "scrolled": true
   },
   "outputs": [
    {
     "name": "stdout",
     "output_type": "stream",
     "text": [
      "change point at decade 3\n"
     ]
    },
    {
     "data": {
      "text/plain": [
       "<AxesSubplot:xlabel='decade', ylabel='diff'>"
      ]
     },
     "execution_count": 135,
     "metadata": {},
     "output_type": "execute_result"
    },
    {
     "data": {
      "image/png": "[encoded data removed]",
      "text/plain": [
       "<Figure size 432x288 with 1 Axes>"
      ]
     },
     "metadata": {},
     "output_type": "display_data"
    }
   ],
   "source": [
    "plot_change_point('techniques')"
   ]
  },
  {
   "cell_type": "code",
   "execution_count": 136,
   "metadata": {},
   "outputs": [
    {
     "name": "stdout",
     "output_type": "stream",
     "text": [
      "change point at decade 5\n"
     ]
    },
    {
     "data": {
      "text/plain": [
       "<AxesSubplot:xlabel='decade', ylabel='diff'>"
      ]
     },
     "execution_count": 136,
     "metadata": {},
     "output_type": "execute_result"
    },
    {
     "data": {
      "image/png": "[encoded data removed]",
      "text/plain": [
       "<Figure size 432x288 with 1 Axes>"
      ]
     },
     "metadata": {},
     "output_type": "display_data"
    }
   ],
   "source": [
    "plot_change_point('skills')"
   ]
  }
 ],
 "metadata": {
  "kernelspec": {
   "display_name": "Python 3",
   "language": "python",
   "name": "python3"
  },
  "language_info": {
   "codemirror_mode": {
    "name": "ipython",
    "version": 3
   },
   "file_extension": ".py",
   "mimetype": "text/x-python",
   "name": "python",
   "nbconvert_exporter": "python",
   "pygments_lexer": "ipython3",
   "version": "3.6.9"
  }
 },
 "nbformat": 4,
 "nbformat_minor": 4
}
